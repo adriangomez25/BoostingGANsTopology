{
  "nbformat": 4,
  "nbformat_minor": 0,
  "metadata": {
    "colab": {
      "name": "GAN with Functional.ipynb",
      "provenance": []
    },
    "kernelspec": {
      "name": "python3",
      "display_name": "Python 3"
    }
  },
  "cells": [
    {
      "cell_type": "code",
      "metadata": {
        "id": "UX3v72PlE5FD",
        "colab_type": "code",
        "colab": {}
      },
      "source": [
        "import tensorflow as tf\n",
        "from tensorflow.keras.datasets import mnist\n",
        "from tensorflow.keras.models import Sequential \n",
        "from tensorflow.keras.layers import Dense, BatchNormalization, LeakyReLU, Reshape, Conv2DTranspose, Conv2D, Dropout, Flatten\n",
        "from tensorflow.keras.losses import BinaryCrossentropy\n",
        "from tensorflow.keras.optimizers import Adam\n",
        "import numpy as np\n",
        "import matplotlib.pyplot as plt \n",
        "from tensorflow import keras\n",
        "from tensorflow.keras import layers\n",
        "import time\n",
        "import os\n",
        "!pip install scikit-tda\n",
        "import sys\n",
        "\n",
        "# if not sys.warnoptions:\n",
        "import warnings\n",
        "warnings.simplefilter(\"ignore\")"
      ],
      "execution_count": 0,
      "outputs": []
    },
    {
      "cell_type": "code",
      "metadata": {
        "id": "ZB-PpMRIFRIC",
        "colab_type": "code",
        "outputId": "9ef29569-b490-4b98-a79a-ddf7a026ba54",
        "colab": {
          "base_uri": "https://localhost:8080/",
          "height": 35
        }
      },
      "source": [
        "print (tf.__version__)"
      ],
      "execution_count": 2,
      "outputs": [
        {
          "output_type": "stream",
          "text": [
            "2.2.0-rc3\n"
          ],
          "name": "stdout"
        }
      ]
    },
    {
      "cell_type": "code",
      "metadata": {
        "id": "03RPzJQpW32Q",
        "colab_type": "code",
        "colab": {}
      },
      "source": [
        "def Build_Generator_Model():\n",
        "    '''\n",
        "    Generator model:\n",
        "    Input: random seed\n",
        "    Upsamples to produce an image \n",
        "    Output: 28x28x1 image\n",
        "    '''\n",
        "    model = Sequential()\n",
        "    model.add(Dense(7*7*256, use_bias=False, input_shape=(100,)))\n",
        "    model.add(BatchNormalization())\n",
        "    model.add(LeakyReLU())\n",
        "\n",
        "    model.add(Reshape((7, 7, 256)))\n",
        "    assert model.output_shape == (None, 7, 7, 256)\n",
        "\n",
        "    model.add(Conv2DTranspose(128, (5, 5), strides=(1, 1), padding='same', use_bias=False))\n",
        "    assert model.output_shape == (None, 7, 7, 128)\n",
        "    model.add(BatchNormalization())\n",
        "    model.add(LeakyReLU())\n",
        "\n",
        "    model.add(Conv2DTranspose(64, (5, 5), strides=(2, 2), padding='same', use_bias=False))\n",
        "    assert model.output_shape == (None, 14, 14, 64)\n",
        "    model.add(BatchNormalization())\n",
        "    model.add(LeakyReLU())\n",
        "\n",
        "    model.add(Conv2DTranspose(1, (5, 5), strides=(2, 2), padding='same', use_bias=False, activation='tanh'))\n",
        "    assert model.output_shape == (None, 28, 28, 1)\n",
        "\n",
        "    return model "
      ],
      "execution_count": 0,
      "outputs": []
    },
    {
      "cell_type": "code",
      "metadata": {
        "id": "2swypq0aXNk-",
        "colab_type": "code",
        "outputId": "9a37ecd9-cd2f-4719-944d-0f7a92dc0d87",
        "colab": {
          "base_uri": "https://localhost:8080/",
          "height": 300
        }
      },
      "source": [
        "Generator = Build_Generator_Model()\n",
        "noise = tf.random.normal([1, 100])\n",
        "generated_image_test = Generator(noise, training=False)\n",
        "print(generated_image_test.shape)\n",
        "plt.imshow(generated_image_test[0,:,:,0], cmap='gray')"
      ],
      "execution_count": 4,
      "outputs": [
        {
          "output_type": "stream",
          "text": [
            "(1, 28, 28, 1)\n"
          ],
          "name": "stdout"
        },
        {
          "output_type": "execute_result",
          "data": {
            "text/plain": [
              "<matplotlib.image.AxesImage at 0x7f00ccec1a20>"
            ]
          },
          "metadata": {
            "tags": []
          },
          "execution_count": 4
        },
        {
          "output_type": "display_data",
          "data": {
            "image/png": "[encoded data removed]",
            "text/plain": [
              "<Figure size 432x288 with 1 Axes>"
            ]
          },
          "metadata": {
            "tags": [],
            "needs_background": "light"
          }
        }
      ]
    },
    {
      "cell_type": "code",
      "metadata": {
        "id": "oVdsJbgjWGBr",
        "colab_type": "code",
        "colab": {}
      },
      "source": [
        "def Build_Discriminator_Model_Functional():\n",
        "  '''\n",
        "  CNN with persistence encoding concatenated \n",
        "  '''\n",
        "\n",
        "  img_input = keras.Input(shape=[28,28,1], name='image')\n",
        "  vector = keras.Input(shape=[2], name='persistence_vector')\n",
        "  x = layers.Conv2D(64, (5, 5), strides=(2, 2), padding='same')(img_input)\n",
        "  x = layers.LeakyReLU()(x)\n",
        "  x = layers.Dropout(0.3)(x)\n",
        "  x = layers.Conv2D(128, (5, 5), strides=(2, 2), padding='same')(x)\n",
        "  x = layers.LeakyReLU()(x)\n",
        "  x = layers.Dropout(0.3)(x)\n",
        "  x = layers.Flatten()(x)\n",
        "  y = layers.concatenate([x,vector])\n",
        "  out = layers.Dense(1)(y)\n",
        "  model = keras.Model(inputs = [img_input, vector], outputs=out)\n",
        "  return model"
      ],
      "execution_count": 0,
      "outputs": []
    },
    {
      "cell_type": "code",
      "metadata": {
        "id": "EYchXakzcciy",
        "colab_type": "code",
        "outputId": "3cea8c92-1ac6-465c-f723-3aa0c749011e",
        "colab": {
          "base_uri": "https://localhost:8080/",
          "height": 35
        }
      },
      "source": [
        "generated_image_test.shape"
      ],
      "execution_count": 6,
      "outputs": [
        {
          "output_type": "execute_result",
          "data": {
            "text/plain": [
              "TensorShape([1, 28, 28, 1])"
            ]
          },
          "metadata": {
            "tags": []
          },
          "execution_count": 6
        }
      ]
    },
    {
      "cell_type": "code",
      "metadata": {
        "id": "6TBe6N0OXKi4",
        "colab_type": "code",
        "outputId": "d07ce7bb-62d8-4671-ae2e-9dcb66e150b7",
        "colab": {
          "base_uri": "https://localhost:8080/",
          "height": 555
        }
      },
      "source": [
        "Discriminator = Build_Discriminator_Model_Functional()\n",
        "Discriminator.summary()\n"
      ],
      "execution_count": 7,
      "outputs": [
        {
          "output_type": "stream",
          "text": [
            "Model: \"model\"\n",
            "__________________________________________________________________________________________________\n",
            "Layer (type)                    Output Shape         Param #     Connected to                     \n",
            "==================================================================================================\n",
            "image (InputLayer)              [(None, 28, 28, 1)]  0                                            \n",
            "__________________________________________________________________________________________________\n",
            "conv2d (Conv2D)                 (None, 14, 14, 64)   1664        image[0][0]                      \n",
            "__________________________________________________________________________________________________\n",
            "leaky_re_lu_3 (LeakyReLU)       (None, 14, 14, 64)   0           conv2d[0][0]                     \n",
            "__________________________________________________________________________________________________\n",
            "dropout (Dropout)               (None, 14, 14, 64)   0           leaky_re_lu_3[0][0]              \n",
            "__________________________________________________________________________________________________\n",
            "conv2d_1 (Conv2D)               (None, 7, 7, 128)    204928      dropout[0][0]                    \n",
            "__________________________________________________________________________________________________\n",
            "leaky_re_lu_4 (LeakyReLU)       (None, 7, 7, 128)    0           conv2d_1[0][0]                   \n",
            "__________________________________________________________________________________________________\n",
            "dropout_1 (Dropout)             (None, 7, 7, 128)    0           leaky_re_lu_4[0][0]              \n",
            "__________________________________________________________________________________________________\n",
            "flatten (Flatten)               (None, 6272)         0           dropout_1[0][0]                  \n",
            "__________________________________________________________________________________________________\n",
            "persistence_vector (InputLayer) [(None, 2)]          0                                            \n",
            "__________________________________________________________________________________________________\n",
            "concatenate (Concatenate)       (None, 6274)         0           flatten[0][0]                    \n",
            "                                                                 persistence_vector[0][0]         \n",
            "__________________________________________________________________________________________________\n",
            "dense_1 (Dense)                 (None, 1)            6275        concatenate[0][0]                \n",
            "==================================================================================================\n",
            "Total params: 212,867\n",
            "Trainable params: 212,867\n",
            "Non-trainable params: 0\n",
            "__________________________________________________________________________________________________\n"
          ],
          "name": "stdout"
        }
      ]
    },
    {
      "cell_type": "code",
      "metadata": {
        "id": "BknPo0qPXSu0",
        "colab_type": "code",
        "outputId": "a4c15def-f7e2-49b0-a8b6-77cca7ca25dd",
        "colab": {
          "base_uri": "https://localhost:8080/",
          "height": 35
        }
      },
      "source": [
        "times = tf.constant([10,1,1,1], tf.int32) \n",
        "print(tf.tile(generated_image_test, times).shape)\n",
        "Decision_Test = Discriminator([generated_image_test, tf.zeros([1,2])])\n",
        "#{'persistence_vector': tf.zeros([10,28], dtype=tf.float32),'image': tf.tile(generated_image_test, times)})"
      ],
      "execution_count": 8,
      "outputs": [
        {
          "output_type": "stream",
          "text": [
            "(10, 28, 28, 1)\n"
          ],
          "name": "stdout"
        }
      ]
    },
    {
      "cell_type": "code",
      "metadata": {
        "id": "vK0vj_hmefnn",
        "colab_type": "code",
        "outputId": "31c32bbb-e4a2-4fed-ed4c-729dcecdbfdc",
        "colab": {
          "base_uri": "https://localhost:8080/",
          "height": 35
        }
      },
      "source": [
        "print(Decision_Test)"
      ],
      "execution_count": 9,
      "outputs": [
        {
          "output_type": "stream",
          "text": [
            "tf.Tensor([[-0.00139694]], shape=(1, 1), dtype=float32)\n"
          ],
          "name": "stdout"
        }
      ]
    },
    {
      "cell_type": "code",
      "metadata": {
        "id": "khJKSdk4ehug",
        "colab_type": "code",
        "colab": {}
      },
      "source": [
        "Generator_Optimizer = Adam(1e-4)\n",
        "Discriminator_Optimizer = Adam(1e-4)"
      ],
      "execution_count": 0,
      "outputs": []
    },
    {
      "cell_type": "code",
      "metadata": {
        "id": "NohoRrbEk8Q7",
        "colab_type": "code",
        "colab": {}
      },
      "source": [
        "checkpoint_dir = './training_checkpoints'\n",
        "checkpoint_prefix = os.path.join(checkpoint_dir, \"ckpt\")\n",
        "checkpoint = tf.train.Checkpoint(Generator_Optimizer=Generator_Optimizer, Discriminator_Optimizer=Discriminator_Optimizer, Generator=Generator, Discriminator=Discriminator)"
      ],
      "execution_count": 0,
      "outputs": []
    },
    {
      "cell_type": "code",
      "metadata": {
        "id": "L3dMs__ck_aV",
        "colab_type": "code",
        "colab": {
          "base_uri": "https://localhost:8080/",
          "height": 35
        },
        "outputId": "68df0fbb-90fc-43dd-ad58-6c79cbe26da9"
      },
      "source": [
        "cross_entropy = BinaryCrossentropy(from_logits=True)\n",
        "\n",
        "def Generator_Loss(fake_output):\n",
        "    '''\n",
        "    Define loss function for Generator Model \n",
        "    Discriminator output for each image is compared to an array of 1's \n",
        "    '''\n",
        "    return cross_entropy(tf.ones_like(fake_output), fake_output)\n",
        "\n",
        "def Discriminator_Loss(real_output, fake_output):\n",
        "    '''\n",
        "    Defines loss function for Discriminator Model\n",
        "    1 is assigned to Real Images\n",
        "    0 is assigned to Fake Images\n",
        "    Output: Sum Total Loss\n",
        "    '''\n",
        "    real_loss = cross_entropy(tf.ones_like(real_output), real_output)\n",
        "    fake_loss = cross_entropy(tf.zeros_like(fake_output), fake_output)\n",
        "    total_loss = real_loss + fake_loss\n",
        "    return total_loss\n",
        "\n",
        "\n",
        "from ripser import Rips\n",
        "rips = Rips()\n",
        "\n",
        "EPOCHS = 75\n",
        "NOISE_DIM = 100\n",
        "Num_Images_to_Generate = 10\n",
        "seed = tf.random.normal([Num_Images_to_Generate, NOISE_DIM])\n",
        "\n",
        "@tf.function\n",
        "def evaluate_generator():\n",
        "    noise = tf.random.normal([Batch_Size, NOISE_DIM])\n",
        "    # with tf.GradientTape(watch_accessed_variables=False) as gt:\n",
        "    G_Images = Generator(noise, training=False)\n",
        "    return G_Images, noise\n",
        "\n",
        "def create_persistence(images):\n",
        "  images = tf.squeeze(images).numpy()\n",
        "  batch_vectors=[]\n",
        "  for i in range(images.shape[0]):\n",
        "      img = images[i,:,:]\n",
        "      diagrams = rips.fit_transform(img, metric='manhattan')\n",
        "      app = [sum(x) for x in zip(*diagrams[1])]\n",
        "      if len(app)<2:\n",
        "        app = [0. , 0.]\n",
        "      batch_vectors.append(app)\n",
        "  batch_vector = tf.constant(batch_vectors)\n",
        "  return batch_vector\n",
        "\n",
        "\n",
        "def evaluate_discriminator(images,real_persistence, fake_persistence, noise):\n",
        "    with tf.GradientTape() as gen_tape, tf.GradientTape() as disc_tape:\n",
        "        Generated_Images = Generator(noise, training=True)\n",
        "        real_output = Discriminator([images, real_persistence], training=True)\n",
        "        fake_output = Discriminator([Generated_Images, fake_persistence], training=True)\n",
        "        Gen_Loss = Generator_Loss(fake_output)\n",
        "        Disc_Loss = Discriminator_Loss(real_output, fake_output)\n",
        "\n",
        "    Generator_Grads = gen_tape.gradient(Gen_Loss, Generator.trainable_variables)\n",
        "    Discriminator_Grads = disc_tape.gradient(Disc_Loss, Discriminator.trainable_variables)\n",
        "    Generator_Optimizer.apply_gradients(zip(Generator_Grads, Generator.trainable_variables))\n",
        "    Discriminator_Optimizer.apply_gradients(zip(Discriminator_Grads, Discriminator.trainable_variables))\n",
        "\n",
        "\n",
        "def all_together(images):\n",
        "  Generated_Images, noise = evaluate_generator()\n",
        "  real_persistence = create_persistence(images)\n",
        "  fake_persistence = create_persistence(Generated_Images)\n",
        "  evaluate_discriminator(images, real_persistence, fake_persistence, noise)\n",
        "\n",
        "@tf.function\n",
        "def Train_Step(images, zeros):\n",
        "    noise = tf.random.normal([Batch_Size, NOISE_DIM])\n",
        "    with tf.GradientTape() as gen_tape, tf.GradientTape() as disc_tape:\n",
        "        Generated_Images = Generator(noise, training=True)\n",
        "        real_output = Discriminator([images, zeros], training=True)\n",
        "        fake_output = Discriminator([Generated_Images,zeros], training=True)\n",
        "        Gen_Loss = Generator_Loss(fake_output)\n",
        "        Disc_Loss = Discriminator_Loss(real_output, fake_output)\n",
        "\n",
        "    Generator_Grads = gen_tape.gradient(Gen_Loss, Generator.trainable_variables)\n",
        "    Discriminator_Grads = disc_tape.gradient(Disc_Loss, Discriminator.trainable_variables)\n",
        "    Generator_Optimizer.apply_gradients(zip(Generator_Grads, Generator.trainable_variables))\n",
        "    Discriminator_Optimizer.apply_gradients(zip(Discriminator_Grads, Discriminator.trainable_variables))\n",
        "\n",
        "\n",
        "def Generate_and_Save_Images(model, epoch, test_input):\n",
        "    predictions = model(test_input, training=False)\n",
        "    fig = plt.figure(figsize=(4, 4))\n",
        "    for i in range(predictions.shape[0]):\n",
        "        plt.subplot(4, 4, i + 1)\n",
        "        plt.imshow(predictions[i, :, : , 0] * 127.5 + 127.5, cmap='gray')\n",
        "        plt.axis('off')\n",
        "    plt.savefig('image_at_epoch_{:04d}.png'.format(epoch))\n",
        "    plt.show()\n",
        "\n",
        "\n",
        "def Train(Dataset, epochs):\n",
        "    '''\n",
        "    Train the DCGAN on a Dataset for a given number of epochs\n",
        "    ''' \n",
        "    for epoch in range(epochs):\n",
        "        start = time.time()\n",
        "\n",
        "        for k, image_batch in enumerate(Dataset):\n",
        "            all_together(image_batch)\n",
        "            if k %70 ==0:\n",
        "              print('batch {} done'.format(k))\n",
        "        Generate_and_Save_Images(Generator, epoch + 1, seed)\n",
        "        if(epoch + 1) % 15 == 0:\n",
        "          checkpoint.save(file_prefix = checkpoint_prefix)\n",
        "        print(f'Time for Epoch: {epoch + 1} is {time.time() - start}')\n",
        "    Generate_and_Save_Images(Generator, epochs, seed)\n",
        "\n",
        "\n",
        "\n"
      ],
      "execution_count": 12,
      "outputs": [
        {
          "output_type": "stream",
          "text": [
            "Rips(maxdim=1, thresh=inf, coeff=2, do_cocycles=False, n_perm = None, verbose=True)\n"
          ],
          "name": "stdout"
        }
      ]
    },
    {
      "cell_type": "code",
      "metadata": {
        "id": "YDcQYPmTlwoX",
        "colab_type": "code",
        "colab": {}
      },
      "source": [
        "#Load data - prepare training data and normalize images to -1, 1\n",
        "(train_images, train_labels), (temp_images, temp_labels) = mnist.load_data()\n",
        "Train_images = np.append(train_images, temp_images, axis=0)\n",
        "Train_labels = np.append(train_labels, temp_labels, axis=0)\n",
        "Train_images = Train_images.reshape(Train_images.shape[0], 28, 28, 1).astype('float32')\n",
        "Train_images = (Train_images - 127.5) / 127.5\n",
        "Buffer_Size = 70000\n",
        "Batch_Size = 250\n",
        "Train_Data_Set = tf.data.Dataset.from_tensor_slices(Train_images).shuffle(Buffer_Size).batch(Batch_Size)\n"
      ],
      "execution_count": 0,
      "outputs": []
    },
    {
      "cell_type": "code",
      "metadata": {
        "id": "SIwuc5onl01K",
        "colab_type": "code",
        "colab": {}
      },
      "source": [
        "Train(Train_Data_Set, EPOCHS)"
      ],
      "execution_count": 0,
      "outputs": []
    }
  ]
}